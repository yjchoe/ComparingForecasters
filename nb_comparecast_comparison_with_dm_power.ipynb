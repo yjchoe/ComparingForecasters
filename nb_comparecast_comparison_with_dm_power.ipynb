{
 "cells": [
  {
   "cell_type": "markdown",
   "id": "9edba9d5",
   "metadata": {},
   "source": [
    "# Sequentially Comparing Forecasters on Synthetic Data\n",
    "\n",
    "Here, we compare our e-processes against the **Diebold-Mariano (DM)** test of _unconditional_ predictive ability and the **Giacomini-White (GW)** test of _conditional_ predictive ability. \n",
    "Both are asymptotic tests with stationarity/mixing assumptions; each also has some modeling assumption (error-based losses for DM; linear conditional models for GW).\n",
    "\n",
    "We use the package [`epftoolbox`](https://epftoolbox.readthedocs.io/en/latest/) to implement the DM and GW tests. (It requires `tensorflow>=2.2` although we don't use the functionality here.)\n",
    "\n",
    "See also: Section H.2 in our paper.\n",
    "\n",
    "YJ Choe [yjchoe@cmu.edu]"
   ]
  },
  {
   "cell_type": "code",
   "execution_count": 1,
   "id": "e8a7cd11",
   "metadata": {},
   "outputs": [],
   "source": [
    "import numpy as np\n",
    "import matplotlib.pyplot as plt\n",
    "import pandas as pd\n",
    "import seaborn as sns\n",
    "import os.path\n",
    "\n",
    "import comparecast as cc"
   ]
  },
  {
   "cell_type": "code",
   "execution_count": 2,
   "id": "b4d8e339",
   "metadata": {},
   "outputs": [],
   "source": [
    "from epftoolbox.evaluation import DM\n",
    "from epftoolbox.evaluation.gw import gwtest"
   ]
  },
  {
   "cell_type": "markdown",
   "id": "fe5f3ce8",
   "metadata": {},
   "source": [
    "## Hyperparameter Settings"
   ]
  },
  {
   "cell_type": "code",
   "execution_count": 3,
   "id": "7fd4fadb",
   "metadata": {},
   "outputs": [],
   "source": [
    "# which scoring rule to use\n",
    "scoring_rule = \"brier\"\n",
    "\n",
    "# significance level\n",
    "alpha = 0.05\n",
    "\n",
    "# whether to use the log scale on x-axis (time)\n",
    "use_logx = False\n",
    "\n",
    "# size up label fonts\n",
    "font_scale = 1.75"
   ]
  },
  {
   "cell_type": "markdown",
   "id": "6b950921",
   "metadata": {},
   "source": [
    "## Forecasts on Synthetic Data\n",
    "\n",
    "We create a case where there reality is non-stationary and also not noisy."
   ]
  },
  {
   "cell_type": "code",
   "execution_count": 4,
   "id": "bc35b850",
   "metadata": {
    "scrolled": false
   },
   "outputs": [
    {
     "data": {
      "text/html": [
       "<div>\n",
       "<style scoped>\n",
       "    .dataframe tbody tr th:only-of-type {\n",
       "        vertical-align: middle;\n",
       "    }\n",
       "\n",
       "    .dataframe tbody tr th {\n",
       "        vertical-align: top;\n",
       "    }\n",
       "\n",
       "    .dataframe thead th {\n",
       "        text-align: right;\n",
       "    }\n",
       "</style>\n",
       "<table border=\"1\" class=\"dataframe\">\n",
       "  <thead>\n",
       "    <tr style=\"text-align: right;\">\n",
       "      <th></th>\n",
       "      <th>time</th>\n",
       "      <th>y</th>\n",
       "      <th>true_probs</th>\n",
       "      <th>constant_0.5</th>\n",
       "      <th>constant_0</th>\n",
       "      <th>constant_1</th>\n",
       "      <th>laplace</th>\n",
       "      <th>k29_epa</th>\n",
       "      <th>k29_poly3</th>\n",
       "      <th>k29_rbf0.01</th>\n",
       "    </tr>\n",
       "  </thead>\n",
       "  <tbody>\n",
       "    <tr>\n",
       "      <th>0</th>\n",
       "      <td>1</td>\n",
       "      <td>0</td>\n",
       "      <td>0.176406</td>\n",
       "      <td>0.5</td>\n",
       "      <td>0.0</td>\n",
       "      <td>1.0</td>\n",
       "      <td>0.500000</td>\n",
       "      <td>0.000000</td>\n",
       "      <td>0.000000</td>\n",
       "      <td>0.000000</td>\n",
       "    </tr>\n",
       "    <tr>\n",
       "      <th>1</th>\n",
       "      <td>2</td>\n",
       "      <td>0</td>\n",
       "      <td>0.049999</td>\n",
       "      <td>0.5</td>\n",
       "      <td>0.0</td>\n",
       "      <td>1.0</td>\n",
       "      <td>0.333333</td>\n",
       "      <td>0.000000</td>\n",
       "      <td>0.000000</td>\n",
       "      <td>0.000000</td>\n",
       "    </tr>\n",
       "    <tr>\n",
       "      <th>2</th>\n",
       "      <td>3</td>\n",
       "      <td>0</td>\n",
       "      <td>0.117741</td>\n",
       "      <td>0.5</td>\n",
       "      <td>0.0</td>\n",
       "      <td>1.0</td>\n",
       "      <td>0.250000</td>\n",
       "      <td>0.000000</td>\n",
       "      <td>0.000000</td>\n",
       "      <td>0.000000</td>\n",
       "    </tr>\n",
       "    <tr>\n",
       "      <th>3</th>\n",
       "      <td>4</td>\n",
       "      <td>0</td>\n",
       "      <td>0.253642</td>\n",
       "      <td>0.5</td>\n",
       "      <td>0.0</td>\n",
       "      <td>1.0</td>\n",
       "      <td>0.200000</td>\n",
       "      <td>0.000000</td>\n",
       "      <td>0.000000</td>\n",
       "      <td>0.000000</td>\n",
       "    </tr>\n",
       "    <tr>\n",
       "      <th>4</th>\n",
       "      <td>5</td>\n",
       "      <td>0</td>\n",
       "      <td>0.225698</td>\n",
       "      <td>0.5</td>\n",
       "      <td>0.0</td>\n",
       "      <td>1.0</td>\n",
       "      <td>0.166667</td>\n",
       "      <td>0.000000</td>\n",
       "      <td>0.000000</td>\n",
       "      <td>0.000000</td>\n",
       "    </tr>\n",
       "    <tr>\n",
       "      <th>...</th>\n",
       "      <td>...</td>\n",
       "      <td>...</td>\n",
       "      <td>...</td>\n",
       "      <td>...</td>\n",
       "      <td>...</td>\n",
       "      <td>...</td>\n",
       "      <td>...</td>\n",
       "      <td>...</td>\n",
       "      <td>...</td>\n",
       "      <td>...</td>\n",
       "    </tr>\n",
       "    <tr>\n",
       "      <th>9995</th>\n",
       "      <td>9996</td>\n",
       "      <td>1</td>\n",
       "      <td>0.857929</td>\n",
       "      <td>0.5</td>\n",
       "      <td>0.0</td>\n",
       "      <td>1.0</td>\n",
       "      <td>0.273082</td>\n",
       "      <td>0.922852</td>\n",
       "      <td>0.898438</td>\n",
       "      <td>0.945312</td>\n",
       "    </tr>\n",
       "    <tr>\n",
       "      <th>9996</th>\n",
       "      <td>9997</td>\n",
       "      <td>1</td>\n",
       "      <td>1.000000</td>\n",
       "      <td>0.5</td>\n",
       "      <td>0.0</td>\n",
       "      <td>1.0</td>\n",
       "      <td>0.273155</td>\n",
       "      <td>0.925781</td>\n",
       "      <td>0.906250</td>\n",
       "      <td>0.945312</td>\n",
       "    </tr>\n",
       "    <tr>\n",
       "      <th>9997</th>\n",
       "      <td>9998</td>\n",
       "      <td>1</td>\n",
       "      <td>1.000000</td>\n",
       "      <td>0.5</td>\n",
       "      <td>0.0</td>\n",
       "      <td>1.0</td>\n",
       "      <td>0.273227</td>\n",
       "      <td>0.928711</td>\n",
       "      <td>0.913086</td>\n",
       "      <td>0.945312</td>\n",
       "    </tr>\n",
       "    <tr>\n",
       "      <th>9998</th>\n",
       "      <td>9999</td>\n",
       "      <td>1</td>\n",
       "      <td>1.000000</td>\n",
       "      <td>0.5</td>\n",
       "      <td>0.0</td>\n",
       "      <td>1.0</td>\n",
       "      <td>0.273300</td>\n",
       "      <td>0.932617</td>\n",
       "      <td>0.918945</td>\n",
       "      <td>0.945312</td>\n",
       "    </tr>\n",
       "    <tr>\n",
       "      <th>9999</th>\n",
       "      <td>10000</td>\n",
       "      <td>1</td>\n",
       "      <td>1.000000</td>\n",
       "      <td>0.5</td>\n",
       "      <td>0.0</td>\n",
       "      <td>1.0</td>\n",
       "      <td>0.273373</td>\n",
       "      <td>0.934570</td>\n",
       "      <td>0.924805</td>\n",
       "      <td>0.945312</td>\n",
       "    </tr>\n",
       "  </tbody>\n",
       "</table>\n",
       "<p>10000 rows × 10 columns</p>\n",
       "</div>"
      ],
      "text/plain": [
       "       time  y  true_probs  constant_0.5  constant_0  constant_1   laplace  \\\n",
       "0         1  0    0.176406           0.5         0.0         1.0  0.500000   \n",
       "1         2  0    0.049999           0.5         0.0         1.0  0.333333   \n",
       "2         3  0    0.117741           0.5         0.0         1.0  0.250000   \n",
       "3         4  0    0.253642           0.5         0.0         1.0  0.200000   \n",
       "4         5  0    0.225698           0.5         0.0         1.0  0.166667   \n",
       "...     ... ..         ...           ...         ...         ...       ...   \n",
       "9995   9996  1    0.857929           0.5         0.0         1.0  0.273082   \n",
       "9996   9997  1    1.000000           0.5         0.0         1.0  0.273155   \n",
       "9997   9998  1    1.000000           0.5         0.0         1.0  0.273227   \n",
       "9998   9999  1    1.000000           0.5         0.0         1.0  0.273300   \n",
       "9999  10000  1    1.000000           0.5         0.0         1.0  0.273373   \n",
       "\n",
       "       k29_epa  k29_poly3  k29_rbf0.01  \n",
       "0     0.000000   0.000000     0.000000  \n",
       "1     0.000000   0.000000     0.000000  \n",
       "2     0.000000   0.000000     0.000000  \n",
       "3     0.000000   0.000000     0.000000  \n",
       "4     0.000000   0.000000     0.000000  \n",
       "...        ...        ...          ...  \n",
       "9995  0.922852   0.898438     0.945312  \n",
       "9996  0.925781   0.906250     0.945312  \n",
       "9997  0.928711   0.913086     0.945312  \n",
       "9998  0.932617   0.918945     0.945312  \n",
       "9999  0.934570   0.924805     0.945312  \n",
       "\n",
       "[10000 rows x 10 columns]"
      ]
     },
     "execution_count": 4,
     "metadata": {},
     "output_type": "execute_result"
    }
   ],
   "source": [
    "data_name = \"sigmoid\"\n",
    "data_file = f\"forecasts/{data_name}.csv\"\n",
    "plots_dir = f\"plots/{data_name}_with_dm_power\"\n",
    "\n",
    "# data = cc.data_utils.synthetic.get_data(\"default\", size=10000, noise=0.0)\n",
    "# data.to_csv(data_file, index=False)\n",
    "data = cc.data_utils.synthetic.get_data(data_file, size=10000)\n",
    "data"
   ]
  },
  {
   "cell_type": "code",
   "execution_count": 5,
   "id": "4c9e9b1c",
   "metadata": {},
   "outputs": [],
   "source": [
    "# only use k29_poly3\n",
    "data = data.rename(columns={\"k29_poly3\": \"k29\"})\n",
    "\n",
    "name_p = \"k29\"\n",
    "name_q = \"laplace\""
   ]
  },
  {
   "cell_type": "code",
   "execution_count": 6,
   "id": "0dee4522",
   "metadata": {
    "scrolled": false
   },
   "outputs": [
    {
     "data": {
      "image/png": "[encoded data removed]",
      "text/plain": [
       "<Figure size 360x288 with 1 Axes>"
      ]
     },
     "metadata": {},
     "output_type": "display_data"
    }
   ],
   "source": [
    "cc.plot_forecasts(\n",
    "    data, \n",
    "    forecasters=[name_p, name_q],\n",
    "    plots_dir=plots_dir, \n",
    "    use_logx=use_logx,\n",
    "    font_scale=font_scale,\n",
    "    figsize=(5, 4),\n",
    "    legend_out=False,\n",
    ")"
   ]
  },
  {
   "cell_type": "markdown",
   "id": "a2618e7f",
   "metadata": {},
   "source": [
    "## CS for $\\Delta_t(\\hat{p}_\\text{k29-poly3}, \\hat{p}_\\text{laplace})$"
   ]
  },
  {
   "cell_type": "code",
   "execution_count": 7,
   "id": "3e3d6816",
   "metadata": {},
   "outputs": [
    {
     "data": {
      "text/plain": [
       "array([0.07359446, 0.07568633, 0.05166738, ..., 0.11336776, 0.11340858,\n",
       "       0.11344947])"
      ]
     },
     "execution_count": 7,
     "metadata": {},
     "output_type": "execute_result"
    }
   ],
   "source": [
    "cc.compute_true_deltas(\n",
    "    data[name_p],\n",
    "    data[name_q],\n",
    "    data[\"true_probs\"],\n",
    "    scoring_rule=scoring_rule\n",
    ")"
   ]
  },
  {
   "cell_type": "code",
   "execution_count": 8,
   "id": "a25ab08f",
   "metadata": {},
   "outputs": [
    {
     "name": "stderr",
     "output_type": "stream",
     "text": [
      "/Users/yjchoe/Dropbox/Code/ComparingForecasters/comparecast/eprocess.py:44: RuntimeWarning: divide by zero encountered in log\n",
      "  + np.log(gammainc(v_rho_csq, np.maximum(1e-8, cs_v_rho_csq)))\n"
     ]
    },
    {
     "data": {
      "text/html": [
       "<div>\n",
       "<style scoped>\n",
       "    .dataframe tbody tr th:only-of-type {\n",
       "        vertical-align: middle;\n",
       "    }\n",
       "\n",
       "    .dataframe tbody tr th {\n",
       "        vertical-align: top;\n",
       "    }\n",
       "\n",
       "    .dataframe thead th {\n",
       "        text-align: right;\n",
       "    }\n",
       "</style>\n",
       "<table border=\"1\" class=\"dataframe\">\n",
       "  <thead>\n",
       "    <tr style=\"text-align: right;\">\n",
       "      <th></th>\n",
       "      <th>time</th>\n",
       "      <th>lcb</th>\n",
       "      <th>ucb</th>\n",
       "      <th>e_pq</th>\n",
       "      <th>e_qp</th>\n",
       "    </tr>\n",
       "  </thead>\n",
       "  <tbody>\n",
       "    <tr>\n",
       "      <th>0</th>\n",
       "      <td>1</td>\n",
       "      <td>-9.836275</td>\n",
       "      <td>10.336275</td>\n",
       "      <td>1.060372e+00</td>\n",
       "      <td>0.873247</td>\n",
       "    </tr>\n",
       "    <tr>\n",
       "      <th>1</th>\n",
       "      <td>2</td>\n",
       "      <td>-4.862582</td>\n",
       "      <td>5.223693</td>\n",
       "      <td>1.094559e+00</td>\n",
       "      <td>0.827561</td>\n",
       "    </tr>\n",
       "    <tr>\n",
       "      <th>2</th>\n",
       "      <td>3</td>\n",
       "      <td>-3.220888</td>\n",
       "      <td>3.503295</td>\n",
       "      <td>1.112239e+00</td>\n",
       "      <td>0.801757</td>\n",
       "    </tr>\n",
       "    <tr>\n",
       "      <th>3</th>\n",
       "      <td>4</td>\n",
       "      <td>-2.405666</td>\n",
       "      <td>2.637472</td>\n",
       "      <td>1.122837e+00</td>\n",
       "      <td>0.785197</td>\n",
       "    </tr>\n",
       "    <tr>\n",
       "      <th>4</th>\n",
       "      <td>5</td>\n",
       "      <td>-1.918977</td>\n",
       "      <td>2.115533</td>\n",
       "      <td>1.129830e+00</td>\n",
       "      <td>0.773679</td>\n",
       "    </tr>\n",
       "    <tr>\n",
       "      <th>...</th>\n",
       "      <td>...</td>\n",
       "      <td>...</td>\n",
       "      <td>...</td>\n",
       "      <td>...</td>\n",
       "      <td>...</td>\n",
       "    </tr>\n",
       "    <tr>\n",
       "      <th>9995</th>\n",
       "      <td>9996</td>\n",
       "      <td>0.097659</td>\n",
       "      <td>0.121119</td>\n",
       "      <td>1.000000e+07</td>\n",
       "      <td>0.001161</td>\n",
       "    </tr>\n",
       "    <tr>\n",
       "      <th>9996</th>\n",
       "      <td>9997</td>\n",
       "      <td>0.097700</td>\n",
       "      <td>0.121160</td>\n",
       "      <td>1.000000e+07</td>\n",
       "      <td>0.001161</td>\n",
       "    </tr>\n",
       "    <tr>\n",
       "      <th>9997</th>\n",
       "      <td>9998</td>\n",
       "      <td>0.097741</td>\n",
       "      <td>0.121201</td>\n",
       "      <td>1.000000e+07</td>\n",
       "      <td>0.001161</td>\n",
       "    </tr>\n",
       "    <tr>\n",
       "      <th>9998</th>\n",
       "      <td>9999</td>\n",
       "      <td>0.097782</td>\n",
       "      <td>0.121243</td>\n",
       "      <td>1.000000e+07</td>\n",
       "      <td>0.001161</td>\n",
       "    </tr>\n",
       "    <tr>\n",
       "      <th>9999</th>\n",
       "      <td>10000</td>\n",
       "      <td>0.097824</td>\n",
       "      <td>0.121284</td>\n",
       "      <td>1.000000e+07</td>\n",
       "      <td>0.001160</td>\n",
       "    </tr>\n",
       "  </tbody>\n",
       "</table>\n",
       "<p>10000 rows × 5 columns</p>\n",
       "</div>"
      ],
      "text/plain": [
       "       time       lcb        ucb          e_pq      e_qp\n",
       "0         1 -9.836275  10.336275  1.060372e+00  0.873247\n",
       "1         2 -4.862582   5.223693  1.094559e+00  0.827561\n",
       "2         3 -3.220888   3.503295  1.112239e+00  0.801757\n",
       "3         4 -2.405666   2.637472  1.122837e+00  0.785197\n",
       "4         5 -1.918977   2.115533  1.129830e+00  0.773679\n",
       "...     ...       ...        ...           ...       ...\n",
       "9995   9996  0.097659   0.121119  1.000000e+07  0.001161\n",
       "9996   9997  0.097700   0.121160  1.000000e+07  0.001161\n",
       "9997   9998  0.097741   0.121201  1.000000e+07  0.001161\n",
       "9998   9999  0.097782   0.121243  1.000000e+07  0.001161\n",
       "9999  10000  0.097824   0.121284  1.000000e+07  0.001160\n",
       "\n",
       "[10000 rows x 5 columns]"
      ]
     },
     "execution_count": 8,
     "metadata": {},
     "output_type": "execute_result"
    }
   ],
   "source": [
    "results = cc.compare_forecasts(\n",
    "    data, \n",
    "    name_p, \n",
    "    name_q, \n",
    "    aligned_forecasts=True,\n",
    "    compute_cs=True,\n",
    "    lag=1,\n",
    "    scoring_rule=scoring_rule,\n",
    "    alpha=alpha,\n",
    ")\n",
    "results"
   ]
  },
  {
   "cell_type": "code",
   "execution_count": 9,
   "id": "7937ebc9",
   "metadata": {},
   "outputs": [
    {
     "data": {
      "image/png": "[encoded data removed]",
      "text/plain": [
       "<Figure size 360x288 with 1 Axes>"
      ]
     },
     "metadata": {},
     "output_type": "display_data"
    }
   ],
   "source": [
    "results, axes = cc.plot_comparison(\n",
    "    data, \n",
    "    name_p, \n",
    "    name_q, \n",
    "    scoring_rule=scoring_rule,    \n",
    "    plots_dir=None, \n",
    "    alpha=alpha,\n",
    "    baselines=(),\n",
    "    plot_e=False,\n",
    "    plot_diagnostics=False,\n",
    "    plot_width=False,\n",
    "    use_logx=use_logx,\n",
    "    ylim_scale=0.2,\n",
    "    font_scale=font_scale,\n",
    "    no_title=True,\n",
    ")\n",
    "axes[0].set(ylabel=\"CS\")\n",
    "plt.tight_layout()\n",
    "plt.savefig(os.path.join(plots_dir, \"ebcs.pdf\"))\n",
    "None"
   ]
  },
  {
   "cell_type": "markdown",
   "id": "d5b22d98",
   "metadata": {},
   "source": [
    "## DM/GW Tests of (Un)conditional Predictive Ability\n",
    "\n",
    "These tests are NOT anytime-valid and are asymptotic. They also come with different assumptions which are not often checked in practice (Diebold 2013)."
   ]
  },
  {
   "cell_type": "markdown",
   "id": "ca9d16e6",
   "metadata": {},
   "source": [
    "### DM Test"
   ]
  },
  {
   "cell_type": "code",
   "execution_count": 10,
   "id": "362f7f3a",
   "metadata": {},
   "outputs": [
    {
     "name": "stdout",
     "output_type": "stream",
     "text": [
      "DM p-value at T=4000: [0.99644733 0.99644733]\n",
      "DM p-value at T=10000: [0. 0.]\n"
     ]
    }
   ],
   "source": [
    "# use squared loss\n",
    "norm = 2\n",
    "T = len(data)\n",
    "mid_T = 4000\n",
    "\n",
    "# hack to make it 2 columns (second column not meaningful)\n",
    "y, fc_p, fc_q = [\n",
    "    np.vstack([data[column].values, 1 - data[column].values]).T\n",
    "    for column in [\"y\", name_p, name_q]\n",
    "]\n",
    "\n",
    "# direction is in reverse to our null\n",
    "print(f\"DM p-value at T={mid_T}:\", DM(y[:mid_T], fc_q[:mid_T], fc_p[:mid_T], norm=norm))\n",
    "print(f\"DM p-value at T={T}:\", DM(y, fc_q, fc_p, norm=norm))"
   ]
  },
  {
   "cell_type": "code",
   "execution_count": 11,
   "id": "839ed315",
   "metadata": {},
   "outputs": [
    {
     "data": {
      "text/plain": [
       "array([0., 0.])"
      ]
     },
     "execution_count": 11,
     "metadata": {},
     "output_type": "execute_result"
    }
   ],
   "source": [
    "DM(y, fc_q, fc_p, norm=norm)"
   ]
  },
  {
   "cell_type": "code",
   "execution_count": 12,
   "id": "9dda1373",
   "metadata": {},
   "outputs": [
    {
     "data": {
      "text/plain": [
       "array([ True,  True])"
      ]
     },
     "execution_count": 12,
     "metadata": {},
     "output_type": "execute_result"
    }
   ],
   "source": [
    "cc.compute_cfdr(DM(y, fc_q, fc_p, norm=norm))"
   ]
  },
  {
   "cell_type": "markdown",
   "id": "27d852a3",
   "metadata": {},
   "source": [
    "### GW Test"
   ]
  },
  {
   "cell_type": "code",
   "execution_count": 13,
   "id": "7130db62",
   "metadata": {},
   "outputs": [
    {
     "name": "stdout",
     "output_type": "stream",
     "text": [
      "GW p-value at T=4000: 1.0\n",
      "GW p-value at T=10000: 0.0\n"
     ]
    }
   ],
   "source": [
    "# default option 'GW' only supports (hardcoded) the format of 24-forecasts-per-day\n",
    "from epftoolbox.evaluation.gw import gwtest\n",
    "\n",
    "score_fn = cc.get_scoring_rule(\"brier\")\n",
    "\n",
    "loss_p = 1 - score_fn(y, fc_p)\n",
    "loss_q = 1 - score_fn(y, fc_q)\n",
    "\n",
    "print(f\"GW p-value at T={mid_T}:\", gwtest(loss_q[:mid_T], loss_p[:mid_T], tau=1, conditional=True))\n",
    "print(f\"GW p-value at T={T}:\", gwtest(loss_q, loss_p, tau=1, conditional=True))"
   ]
  },
  {
   "cell_type": "markdown",
   "id": "f60c3581",
   "metadata": {},
   "source": [
    "### Both at different sample sizes (unsafe)"
   ]
  },
  {
   "cell_type": "code",
   "execution_count": 14,
   "id": "e77b473a",
   "metadata": {},
   "outputs": [
    {
     "data": {
      "application/vnd.jupyter.widget-view+json": {
       "model_id": "cbf2628714ba40d2b96044d7751cb043",
       "version_major": 2,
       "version_minor": 0
      },
      "text/plain": [
       "  0%|          | 0/100 [00:00<?, ?it/s]"
      ]
     },
     "metadata": {},
     "output_type": "display_data"
    },
    {
     "data": {
      "text/html": [
       "<div>\n",
       "<style scoped>\n",
       "    .dataframe tbody tr th:only-of-type {\n",
       "        vertical-align: middle;\n",
       "    }\n",
       "\n",
       "    .dataframe tbody tr th {\n",
       "        vertical-align: top;\n",
       "    }\n",
       "\n",
       "    .dataframe thead th {\n",
       "        text-align: right;\n",
       "    }\n",
       "</style>\n",
       "<table border=\"1\" class=\"dataframe\">\n",
       "  <thead>\n",
       "    <tr style=\"text-align: right;\">\n",
       "      <th></th>\n",
       "      <th>Time</th>\n",
       "      <th>Test</th>\n",
       "      <th>p-value</th>\n",
       "    </tr>\n",
       "  </thead>\n",
       "  <tbody>\n",
       "    <tr>\n",
       "      <th>0</th>\n",
       "      <td>100</td>\n",
       "      <td>DM</td>\n",
       "      <td>0.807841</td>\n",
       "    </tr>\n",
       "    <tr>\n",
       "      <th>1</th>\n",
       "      <td>200</td>\n",
       "      <td>DM</td>\n",
       "      <td>0.799895</td>\n",
       "    </tr>\n",
       "    <tr>\n",
       "      <th>2</th>\n",
       "      <td>300</td>\n",
       "      <td>DM</td>\n",
       "      <td>0.738469</td>\n",
       "    </tr>\n",
       "    <tr>\n",
       "      <th>3</th>\n",
       "      <td>400</td>\n",
       "      <td>DM</td>\n",
       "      <td>0.782820</td>\n",
       "    </tr>\n",
       "    <tr>\n",
       "      <th>4</th>\n",
       "      <td>500</td>\n",
       "      <td>DM</td>\n",
       "      <td>0.809458</td>\n",
       "    </tr>\n",
       "    <tr>\n",
       "      <th>...</th>\n",
       "      <td>...</td>\n",
       "      <td>...</td>\n",
       "      <td>...</td>\n",
       "    </tr>\n",
       "    <tr>\n",
       "      <th>195</th>\n",
       "      <td>9600</td>\n",
       "      <td>GW</td>\n",
       "      <td>0.000000</td>\n",
       "    </tr>\n",
       "    <tr>\n",
       "      <th>196</th>\n",
       "      <td>9700</td>\n",
       "      <td>GW</td>\n",
       "      <td>0.000000</td>\n",
       "    </tr>\n",
       "    <tr>\n",
       "      <th>197</th>\n",
       "      <td>9800</td>\n",
       "      <td>GW</td>\n",
       "      <td>0.000000</td>\n",
       "    </tr>\n",
       "    <tr>\n",
       "      <th>198</th>\n",
       "      <td>9900</td>\n",
       "      <td>GW</td>\n",
       "      <td>0.000000</td>\n",
       "    </tr>\n",
       "    <tr>\n",
       "      <th>199</th>\n",
       "      <td>10000</td>\n",
       "      <td>GW</td>\n",
       "      <td>0.000000</td>\n",
       "    </tr>\n",
       "  </tbody>\n",
       "</table>\n",
       "<p>200 rows × 3 columns</p>\n",
       "</div>"
      ],
      "text/plain": [
       "      Time Test   p-value\n",
       "0      100   DM  0.807841\n",
       "1      200   DM  0.799895\n",
       "2      300   DM  0.738469\n",
       "3      400   DM  0.782820\n",
       "4      500   DM  0.809458\n",
       "..     ...  ...       ...\n",
       "195   9600   GW  0.000000\n",
       "196   9700   GW  0.000000\n",
       "197   9800   GW  0.000000\n",
       "198   9900   GW  0.000000\n",
       "199  10000   GW  0.000000\n",
       "\n",
       "[200 rows x 3 columns]"
      ]
     },
     "execution_count": 14,
     "metadata": {},
     "output_type": "execute_result"
    }
   ],
   "source": [
    "# non-anytime-valid p-values\n",
    "from tqdm.notebook import tqdm\n",
    "\n",
    "n_interval = 100\n",
    "unsafe_p = pd.DataFrame([\n",
    "    {\n",
    "        \"Time\": t,\n",
    "        \"DM\": DM(y[:t], fc_q[:t], fc_p[:t], norm=norm)[0],\n",
    "        \"GW\": gwtest(loss_q[:t], loss_p[:t], tau=1, conditional=True),\n",
    "    }\n",
    "    for t in tqdm(data.time[n_interval-1::n_interval])\n",
    "]).melt(id_vars=[\"Time\"], var_name=\"Test\", value_name=\"p-value\")\n",
    "\n",
    "unsafe_p"
   ]
  },
  {
   "cell_type": "markdown",
   "id": "901232cc",
   "metadata": {},
   "source": [
    "## Comparison with Anytime-Valid $p$-Values\n",
    "\n",
    "Any e-process $(E_t)_{t \\geq 0}$ can be converted into an anytime-valid p-process $(\\mathsf{p}_t)_{t\\geq0}$ via the simple conversion formula $\\mathsf{p}_t = 1/E_t$."
   ]
  },
  {
   "cell_type": "code",
   "execution_count": 15,
   "id": "78037387",
   "metadata": {},
   "outputs": [
    {
     "name": "stderr",
     "output_type": "stream",
     "text": [
      "/Users/yjchoe/Dropbox/Code/ComparingForecasters/comparecast/eprocess.py:44: RuntimeWarning: divide by zero encountered in log\n",
      "  + np.log(gammainc(v_rho_csq, np.maximum(1e-8, cs_v_rho_csq)))\n"
     ]
    },
    {
     "data": {
      "text/html": [
       "<div>\n",
       "<style scoped>\n",
       "    .dataframe tbody tr th:only-of-type {\n",
       "        vertical-align: middle;\n",
       "    }\n",
       "\n",
       "    .dataframe tbody tr th {\n",
       "        vertical-align: top;\n",
       "    }\n",
       "\n",
       "    .dataframe thead th {\n",
       "        text-align: right;\n",
       "    }\n",
       "</style>\n",
       "<table border=\"1\" class=\"dataframe\">\n",
       "  <thead>\n",
       "    <tr style=\"text-align: right;\">\n",
       "      <th></th>\n",
       "      <th>time</th>\n",
       "      <th>lcb</th>\n",
       "      <th>ucb</th>\n",
       "      <th>e_pq</th>\n",
       "      <th>e_qp</th>\n",
       "    </tr>\n",
       "  </thead>\n",
       "  <tbody>\n",
       "    <tr>\n",
       "      <th>0</th>\n",
       "      <td>1</td>\n",
       "      <td>-13.692169</td>\n",
       "      <td>14.192169</td>\n",
       "      <td>1.046004e+00</td>\n",
       "      <td>0.951207</td>\n",
       "    </tr>\n",
       "    <tr>\n",
       "      <th>1</th>\n",
       "      <td>2</td>\n",
       "      <td>-6.790529</td>\n",
       "      <td>7.151640</td>\n",
       "      <td>1.067782e+00</td>\n",
       "      <td>0.930943</td>\n",
       "    </tr>\n",
       "    <tr>\n",
       "      <th>2</th>\n",
       "      <td>3</td>\n",
       "      <td>-4.506186</td>\n",
       "      <td>4.788593</td>\n",
       "      <td>1.080131e+00</td>\n",
       "      <td>0.919685</td>\n",
       "    </tr>\n",
       "    <tr>\n",
       "      <th>3</th>\n",
       "      <td>4</td>\n",
       "      <td>-3.369639</td>\n",
       "      <td>3.601445</td>\n",
       "      <td>1.088061e+00</td>\n",
       "      <td>0.912527</td>\n",
       "    </tr>\n",
       "    <tr>\n",
       "      <th>4</th>\n",
       "      <td>5</td>\n",
       "      <td>-2.690156</td>\n",
       "      <td>2.886711</td>\n",
       "      <td>1.093577e+00</td>\n",
       "      <td>0.907577</td>\n",
       "    </tr>\n",
       "    <tr>\n",
       "      <th>...</th>\n",
       "      <td>...</td>\n",
       "      <td>...</td>\n",
       "      <td>...</td>\n",
       "      <td>...</td>\n",
       "      <td>...</td>\n",
       "    </tr>\n",
       "    <tr>\n",
       "      <th>9995</th>\n",
       "      <td>9996</td>\n",
       "      <td>0.099133</td>\n",
       "      <td>0.119645</td>\n",
       "      <td>1.000000e+07</td>\n",
       "      <td>0.005566</td>\n",
       "    </tr>\n",
       "    <tr>\n",
       "      <th>9996</th>\n",
       "      <td>9997</td>\n",
       "      <td>0.099174</td>\n",
       "      <td>0.119686</td>\n",
       "      <td>1.000000e+07</td>\n",
       "      <td>0.005564</td>\n",
       "    </tr>\n",
       "    <tr>\n",
       "      <th>9997</th>\n",
       "      <td>9998</td>\n",
       "      <td>0.099215</td>\n",
       "      <td>0.119727</td>\n",
       "      <td>1.000000e+07</td>\n",
       "      <td>0.005563</td>\n",
       "    </tr>\n",
       "    <tr>\n",
       "      <th>9998</th>\n",
       "      <td>9999</td>\n",
       "      <td>0.099256</td>\n",
       "      <td>0.119768</td>\n",
       "      <td>1.000000e+07</td>\n",
       "      <td>0.005562</td>\n",
       "    </tr>\n",
       "    <tr>\n",
       "      <th>9999</th>\n",
       "      <td>10000</td>\n",
       "      <td>0.099298</td>\n",
       "      <td>0.119810</td>\n",
       "      <td>1.000000e+07</td>\n",
       "      <td>0.005561</td>\n",
       "    </tr>\n",
       "  </tbody>\n",
       "</table>\n",
       "<p>10000 rows × 5 columns</p>\n",
       "</div>"
      ],
      "text/plain": [
       "       time        lcb        ucb          e_pq      e_qp\n",
       "0         1 -13.692169  14.192169  1.046004e+00  0.951207\n",
       "1         2  -6.790529   7.151640  1.067782e+00  0.930943\n",
       "2         3  -4.506186   4.788593  1.080131e+00  0.919685\n",
       "3         4  -3.369639   3.601445  1.088061e+00  0.912527\n",
       "4         5  -2.690156   2.886711  1.093577e+00  0.907577\n",
       "...     ...        ...        ...           ...       ...\n",
       "9995   9996   0.099133   0.119645  1.000000e+07  0.005566\n",
       "9996   9997   0.099174   0.119686  1.000000e+07  0.005564\n",
       "9997   9998   0.099215   0.119727  1.000000e+07  0.005563\n",
       "9998   9999   0.099256   0.119768  1.000000e+07  0.005562\n",
       "9999  10000   0.099298   0.119810  1.000000e+07  0.005561\n",
       "\n",
       "[10000 rows x 5 columns]"
      ]
     },
     "execution_count": 15,
     "metadata": {},
     "output_type": "execute_result"
    }
   ],
   "source": [
    "results = cc.compare_forecasts(\n",
    "    data, \n",
    "    name_p, \n",
    "    name_q, \n",
    "    scoring_rule=scoring_rule,\n",
    "    alpha=alpha,\n",
    "    v_opt=100,\n",
    ")\n",
    "results"
   ]
  },
  {
   "cell_type": "code",
   "execution_count": 16,
   "id": "2925a7f0",
   "metadata": {},
   "outputs": [],
   "source": [
    "def convert_e_to_p(e, running_max=True):\n",
    "    \"\"\"Convert an e-process into an anytime-valid p-process via\n",
    "    \n",
    "    p_t = 1/E_t.\n",
    "    \"\"\"\n",
    "    if running_max:\n",
    "        return np.clip(1.0 / (np.maximum.accumulate(e) + 1e-8), 0, 1)\n",
    "    else:\n",
    "        return np.clip(1.0 / (e + 1e-8), 0, 1)        "
   ]
  },
  {
   "cell_type": "code",
   "execution_count": 17,
   "id": "356d695a",
   "metadata": {},
   "outputs": [],
   "source": [
    "safe_e = results[\"e_pq\"].values\n",
    "safe_p = convert_e_to_p(safe_e, running_max=False)\n",
    "safe_p = pd.DataFrame([\n",
    "    {\n",
    "        \"Time\": t,\n",
    "        \"Test\": \"CR [SAVI]\",\n",
    "        \"p-value\": p,\n",
    "    }\n",
    "    for t, p in zip(data.time[n_interval-1::n_interval], \n",
    "                    safe_p[n_interval-1::n_interval])\n",
    "])"
   ]
  },
  {
   "cell_type": "code",
   "execution_count": 18,
   "id": "b7d4968d",
   "metadata": {},
   "outputs": [
    {
     "data": {
      "text/html": [
       "<div>\n",
       "<style scoped>\n",
       "    .dataframe tbody tr th:only-of-type {\n",
       "        vertical-align: middle;\n",
       "    }\n",
       "\n",
       "    .dataframe tbody tr th {\n",
       "        vertical-align: top;\n",
       "    }\n",
       "\n",
       "    .dataframe thead th {\n",
       "        text-align: right;\n",
       "    }\n",
       "</style>\n",
       "<table border=\"1\" class=\"dataframe\">\n",
       "  <thead>\n",
       "    <tr style=\"text-align: right;\">\n",
       "      <th></th>\n",
       "      <th>Time</th>\n",
       "      <th>Test</th>\n",
       "      <th>p-value</th>\n",
       "    </tr>\n",
       "  </thead>\n",
       "  <tbody>\n",
       "    <tr>\n",
       "      <th>0</th>\n",
       "      <td>100</td>\n",
       "      <td>HZ [SAVI]</td>\n",
       "      <td>1.000000e+00</td>\n",
       "    </tr>\n",
       "    <tr>\n",
       "      <th>1</th>\n",
       "      <td>200</td>\n",
       "      <td>HZ [SAVI]</td>\n",
       "      <td>1.000000e+00</td>\n",
       "    </tr>\n",
       "    <tr>\n",
       "      <th>2</th>\n",
       "      <td>300</td>\n",
       "      <td>HZ [SAVI]</td>\n",
       "      <td>1.000000e+00</td>\n",
       "    </tr>\n",
       "    <tr>\n",
       "      <th>3</th>\n",
       "      <td>400</td>\n",
       "      <td>HZ [SAVI]</td>\n",
       "      <td>1.000000e+00</td>\n",
       "    </tr>\n",
       "    <tr>\n",
       "      <th>4</th>\n",
       "      <td>500</td>\n",
       "      <td>HZ [SAVI]</td>\n",
       "      <td>1.000000e+00</td>\n",
       "    </tr>\n",
       "    <tr>\n",
       "      <th>...</th>\n",
       "      <td>...</td>\n",
       "      <td>...</td>\n",
       "      <td>...</td>\n",
       "    </tr>\n",
       "    <tr>\n",
       "      <th>95</th>\n",
       "      <td>9600</td>\n",
       "      <td>HZ [SAVI]</td>\n",
       "      <td>1.473068e-39</td>\n",
       "    </tr>\n",
       "    <tr>\n",
       "      <th>96</th>\n",
       "      <td>9700</td>\n",
       "      <td>HZ [SAVI]</td>\n",
       "      <td>8.966591e-42</td>\n",
       "    </tr>\n",
       "    <tr>\n",
       "      <th>97</th>\n",
       "      <td>9800</td>\n",
       "      <td>HZ [SAVI]</td>\n",
       "      <td>1.356149e-43</td>\n",
       "    </tr>\n",
       "    <tr>\n",
       "      <th>98</th>\n",
       "      <td>9900</td>\n",
       "      <td>HZ [SAVI]</td>\n",
       "      <td>8.282126e-46</td>\n",
       "    </tr>\n",
       "    <tr>\n",
       "      <th>99</th>\n",
       "      <td>10000</td>\n",
       "      <td>HZ [SAVI]</td>\n",
       "      <td>6.432802e-48</td>\n",
       "    </tr>\n",
       "  </tbody>\n",
       "</table>\n",
       "<p>100 rows × 3 columns</p>\n",
       "</div>"
      ],
      "text/plain": [
       "     Time       Test       p-value\n",
       "0     100  HZ [SAVI]  1.000000e+00\n",
       "1     200  HZ [SAVI]  1.000000e+00\n",
       "2     300  HZ [SAVI]  1.000000e+00\n",
       "3     400  HZ [SAVI]  1.000000e+00\n",
       "4     500  HZ [SAVI]  1.000000e+00\n",
       "..    ...        ...           ...\n",
       "95   9600  HZ [SAVI]  1.473068e-39\n",
       "96   9700  HZ [SAVI]  8.966591e-42\n",
       "97   9800  HZ [SAVI]  1.356149e-43\n",
       "98   9900  HZ [SAVI]  8.282126e-46\n",
       "99  10000  HZ [SAVI]  6.432802e-48\n",
       "\n",
       "[100 rows x 3 columns]"
      ]
     },
     "execution_count": 18,
     "metadata": {},
     "output_type": "execute_result"
    }
   ],
   "source": [
    "safe_e_hz = cc.eprocess_hz(data[name_p].values, \n",
    "                           data[name_q].values, \n",
    "                           data[\"y\"].values,\n",
    "                           scoring_rule=scoring_rule,\n",
    "                           alt_prob=0.55)\n",
    "safe_p_hz = convert_e_to_p(safe_e_hz, running_max=False)\n",
    "safe_p_hz = pd.DataFrame([\n",
    "    {\n",
    "        \"Time\": t,\n",
    "        \"Test\": \"HZ [SAVI]\",\n",
    "        \"p-value\": p,\n",
    "    }\n",
    "    for t, p in zip(data.time[n_interval-1::n_interval], \n",
    "                    safe_p_hz[n_interval-1::n_interval])\n",
    "])\n",
    "safe_p_hz"
   ]
  },
  {
   "cell_type": "code",
   "execution_count": 19,
   "id": "edaa629b",
   "metadata": {
    "scrolled": false
   },
   "outputs": [
    {
     "data": {
      "image/png": "[encoded data removed]",
      "text/plain": [
       "<Figure size 360x288 with 1 Axes>"
      ]
     },
     "metadata": {},
     "output_type": "display_data"
    }
   ],
   "source": [
    "pvalues = pd.concat([safe_p, safe_p_hz, unsafe_p], ignore_index=True)\n",
    "pvalues = pvalues.rename(columns={\"p-value\": \"P-Value\"})\n",
    "\n",
    "plt.figure(figsize=(5, 4))\n",
    "ax = sns.lineplot(\n",
    "    x=\"Time\",\n",
    "    y=\"P-Value\",\n",
    "    linewidth=2,\n",
    "    hue=\"Test\",\n",
    "    style=\"Test\",\n",
    "    data=pvalues,\n",
    ")\n",
    "ax.set_title(\n",
    "    r\"$H_0:$\" + \"\\\"p is no better than q\\\"\",\n",
    "    fontsize=\"large\",\n",
    ")\n",
    "ax.axhline(y=0.05, color=\"gray\", alpha=0.5, linewidth=2, linestyle=\"dashed\")\n",
    "plt.tight_layout()\n",
    "plt.savefig(os.path.join(plots_dir, \"pvalue_comparison.pdf\"))\n",
    "None"
   ]
  },
  {
   "cell_type": "markdown",
   "id": "52469e14",
   "metadata": {},
   "source": [
    "## *DM Assumptions\n",
    "\n",
    "In particular: covariance stationarity (clearly violated in the above examples)."
   ]
  },
  {
   "cell_type": "code",
   "execution_count": 20,
   "id": "fcaf88f7",
   "metadata": {},
   "outputs": [],
   "source": [
    "deltas = cc.cumul_mean(loss_q - loss_p)"
   ]
  },
  {
   "cell_type": "code",
   "execution_count": 21,
   "id": "e3bf3d05",
   "metadata": {},
   "outputs": [
    {
     "data": {
      "image/png": "[encoded data removed]",
      "text/plain": [
       "<Figure size 360x288 with 1 Axes>"
      ]
     },
     "metadata": {},
     "output_type": "display_data"
    }
   ],
   "source": [
    "plt.figure(figsize=(5, 4))\n",
    "sns.lineplot(x=data.time, y=deltas, label=r\"$\\hat\\Delta_t$\")\n",
    "None"
   ]
  },
  {
   "cell_type": "code",
   "execution_count": 22,
   "id": "190697ac",
   "metadata": {},
   "outputs": [],
   "source": [
    "# ignore the first few steps\n",
    "offset = 500"
   ]
  },
  {
   "cell_type": "code",
   "execution_count": 23,
   "id": "c931195c",
   "metadata": {},
   "outputs": [
    {
     "data": {
      "text/html": [
       "<div>\n",
       "<style scoped>\n",
       "    .dataframe tbody tr th:only-of-type {\n",
       "        vertical-align: middle;\n",
       "    }\n",
       "\n",
       "    .dataframe tbody tr th {\n",
       "        vertical-align: top;\n",
       "    }\n",
       "\n",
       "    .dataframe thead th {\n",
       "        text-align: right;\n",
       "    }\n",
       "</style>\n",
       "<table border=\"1\" class=\"dataframe\">\n",
       "  <thead>\n",
       "    <tr style=\"text-align: right;\">\n",
       "      <th></th>\n",
       "      <th>lb_stat</th>\n",
       "      <th>lb_pvalue</th>\n",
       "    </tr>\n",
       "  </thead>\n",
       "  <tbody>\n",
       "    <tr>\n",
       "      <th>1</th>\n",
       "      <td>9492.371155</td>\n",
       "      <td>0.0</td>\n",
       "    </tr>\n",
       "  </tbody>\n",
       "</table>\n",
       "</div>"
      ],
      "text/plain": [
       "       lb_stat  lb_pvalue\n",
       "1  9492.371155        0.0"
      ]
     },
     "execution_count": 23,
     "metadata": {},
     "output_type": "execute_result"
    }
   ],
   "source": [
    "import statsmodels.api as sm\n",
    "\n",
    "# H_0: white noise vs. H_1: not white noise\n",
    "sm.stats.acorr_ljungbox(deltas[offset:], lags=1)"
   ]
  },
  {
   "cell_type": "code",
   "execution_count": 24,
   "id": "2a7dd8a2",
   "metadata": {},
   "outputs": [
    {
     "data": {
      "text/plain": [
       "(7.200598693670573,\n",
       " 1.0,\n",
       " 38,\n",
       " 9461,\n",
       " {'1%': -3.431041372489004,\n",
       "  '5%': -2.8618455435967367,\n",
       "  '10%': -2.5669326357576447},\n",
       " -170529.86979810375)"
      ]
     },
     "execution_count": 24,
     "metadata": {},
     "output_type": "execute_result"
    }
   ],
   "source": [
    "import statsmodels.tsa.api as tsa\n",
    "\n",
    "# H_0: non-stationary vs. H_1: AR(1) stationary\n",
    "tsa.adfuller(deltas[offset:])"
   ]
  }
 ],
 "metadata": {
  "kernelspec": {
   "display_name": "Python 3 (ipykernel)",
   "language": "python",
   "name": "python3"
  },
  "language_info": {
   "codemirror_mode": {
    "name": "ipython",
    "version": 3
   },
   "file_extension": ".py",
   "mimetype": "text/x-python",
   "name": "python",
   "nbconvert_exporter": "python",
   "pygments_lexer": "ipython3",
   "version": "3.9.10"
  }
 },
 "nbformat": 4,
 "nbformat_minor": 5
}
