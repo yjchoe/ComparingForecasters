{
 "cells": [
  {
   "cell_type": "markdown",
   "id": "9edba9d5",
   "metadata": {},
   "source": [
    "# Sequentially Comparing Forecasters on Synthetic Data\n",
    "\n",
    "Here, we compare our e-processes against the **Diebold-Mariano (DM)** test of _unconditional_ predictive ability and the **Giacomini-White (GW)** test of _conditional_ predictive ability. \n",
    "Both are asymptotic tests with stationarity/mixing assumptions; each also has some modeling assumption (error-based losses for DM; linear conditional models for GW).\n",
    "\n",
    "We use the package [`epftoolbox`](https://epftoolbox.readthedocs.io/en/latest/) to implement the DM and GW tests. (It requires `tensorflow>=2.2` although we don't use the functionality here.)\n",
    "\n",
    "See also: Section H.2 in our paper.\n",
    "\n",
    "YJ Choe [yjchoe@cmu.edu]"
   ]
  },
  {
   "cell_type": "code",
   "execution_count": 1,
   "id": "e8a7cd11",
   "metadata": {},
   "outputs": [],
   "source": [
    "import numpy as np\n",
    "import matplotlib.pyplot as plt\n",
    "import pandas as pd\n",
    "import seaborn as sns\n",
    "import os.path\n",
    "\n",
    "import comparecast as cc"
   ]
  },
  {
   "cell_type": "code",
   "execution_count": 2,
   "id": "b4d8e339",
   "metadata": {},
   "outputs": [],
   "source": [
    "from epftoolbox.evaluation import DM\n",
    "from epftoolbox.evaluation.gw import gwtest"
   ]
  },
  {
   "cell_type": "markdown",
   "id": "fe5f3ce8",
   "metadata": {},
   "source": [
    "## Hyperparameter Settings"
   ]
  },
  {
   "cell_type": "code",
   "execution_count": 3,
   "id": "7fd4fadb",
   "metadata": {},
   "outputs": [],
   "source": [
    "# which scoring rule to use\n",
    "scoring_rule = \"brier\"\n",
    "\n",
    "# significance level\n",
    "alpha = 0.05\n",
    "\n",
    "# whether to use the log scale on x-axis (time)\n",
    "use_logx = False\n",
    "\n",
    "# size up label fonts\n",
    "font_scale = 1.75"
   ]
  },
  {
   "cell_type": "markdown",
   "id": "6b950921",
   "metadata": {},
   "source": [
    "## Forecasts on Synthetic Data\n",
    "\n",
    "To compare the validity of p-processes, we choose a case where the the null is true, i.e., \n",
    "\n",
    "$$\\mathcal{H}_0: \\Delta_t \\leq 0,\\; \\forall t$$.\n",
    "\n",
    "We create a case where there reality is non-stationary and also not noisy."
   ]
  },
  {
   "cell_type": "code",
   "execution_count": 4,
   "id": "bc35b850",
   "metadata": {
    "scrolled": false
   },
   "outputs": [
    {
     "data": {
      "text/html": [
       "<div>\n",
       "<style scoped>\n",
       "    .dataframe tbody tr th:only-of-type {\n",
       "        vertical-align: middle;\n",
       "    }\n",
       "\n",
       "    .dataframe tbody tr th {\n",
       "        vertical-align: top;\n",
       "    }\n",
       "\n",
       "    .dataframe thead th {\n",
       "        text-align: right;\n",
       "    }\n",
       "</style>\n",
       "<table border=\"1\" class=\"dataframe\">\n",
       "  <thead>\n",
       "    <tr style=\"text-align: right;\">\n",
       "      <th></th>\n",
       "      <th>time</th>\n",
       "      <th>y</th>\n",
       "      <th>true_probs</th>\n",
       "    </tr>\n",
       "  </thead>\n",
       "  <tbody>\n",
       "    <tr>\n",
       "      <th>0</th>\n",
       "      <td>1</td>\n",
       "      <td>0</td>\n",
       "      <td>0.5</td>\n",
       "    </tr>\n",
       "    <tr>\n",
       "      <th>1</th>\n",
       "      <td>2</td>\n",
       "      <td>0</td>\n",
       "      <td>0.5</td>\n",
       "    </tr>\n",
       "    <tr>\n",
       "      <th>2</th>\n",
       "      <td>3</td>\n",
       "      <td>1</td>\n",
       "      <td>0.5</td>\n",
       "    </tr>\n",
       "    <tr>\n",
       "      <th>3</th>\n",
       "      <td>4</td>\n",
       "      <td>1</td>\n",
       "      <td>0.5</td>\n",
       "    </tr>\n",
       "    <tr>\n",
       "      <th>4</th>\n",
       "      <td>5</td>\n",
       "      <td>0</td>\n",
       "      <td>0.5</td>\n",
       "    </tr>\n",
       "    <tr>\n",
       "      <th>...</th>\n",
       "      <td>...</td>\n",
       "      <td>...</td>\n",
       "      <td>...</td>\n",
       "    </tr>\n",
       "    <tr>\n",
       "      <th>9995</th>\n",
       "      <td>9996</td>\n",
       "      <td>0</td>\n",
       "      <td>0.2</td>\n",
       "    </tr>\n",
       "    <tr>\n",
       "      <th>9996</th>\n",
       "      <td>9997</td>\n",
       "      <td>1</td>\n",
       "      <td>0.2</td>\n",
       "    </tr>\n",
       "    <tr>\n",
       "      <th>9997</th>\n",
       "      <td>9998</td>\n",
       "      <td>0</td>\n",
       "      <td>0.2</td>\n",
       "    </tr>\n",
       "    <tr>\n",
       "      <th>9998</th>\n",
       "      <td>9999</td>\n",
       "      <td>1</td>\n",
       "      <td>0.2</td>\n",
       "    </tr>\n",
       "    <tr>\n",
       "      <th>9999</th>\n",
       "      <td>10000</td>\n",
       "      <td>0</td>\n",
       "      <td>0.2</td>\n",
       "    </tr>\n",
       "  </tbody>\n",
       "</table>\n",
       "<p>10000 rows × 3 columns</p>\n",
       "</div>"
      ],
      "text/plain": [
       "       time  y  true_probs\n",
       "0         1  0         0.5\n",
       "1         2  0         0.5\n",
       "2         3  1         0.5\n",
       "3         4  1         0.5\n",
       "4         5  0         0.5\n",
       "...     ... ..         ...\n",
       "9995   9996  0         0.2\n",
       "9996   9997  1         0.2\n",
       "9997   9998  0         0.2\n",
       "9998   9999  1         0.2\n",
       "9999  10000  0         0.2\n",
       "\n",
       "[10000 rows x 3 columns]"
      ]
     },
     "execution_count": 4,
     "metadata": {},
     "output_type": "execute_result"
    }
   ],
   "source": [
    "data_name = \"default_noiseless\"\n",
    "data_file = f\"forecasts/{data_name}.csv\"\n",
    "plots_dir = f\"plots/{data_name}_with_dm\"\n",
    "\n",
    "# data = cc.data_utils.synthetic.get_data(\"default\", size=10000, noise=0.0)\n",
    "# data.to_csv(data_file, index=False)\n",
    "data = cc.data_utils.synthetic.get_data(data_file, size=10000, noise=0.0)\n",
    "data"
   ]
  },
  {
   "cell_type": "code",
   "execution_count": 5,
   "id": "5ffab437",
   "metadata": {},
   "outputs": [],
   "source": [
    "data[\"optimist\"] = np.concatenate([\n",
    "    np.repeat(0.6, 2000+1),\n",
    "    np.repeat(0.9, 2000),\n",
    "    np.repeat(0.3, 2000),\n",
    "    np.repeat(0.9, 2000),\n",
    "    np.repeat(0.3, 2000-1),\n",
    "])    # too optimistic\n",
    "data[\"pessimist\"] = np.concatenate([\n",
    "    np.repeat(0.4, 2000+1),\n",
    "    np.repeat(0.7, 2000),\n",
    "    np.repeat(0.1, 2000),\n",
    "    np.repeat(0.7, 2000),\n",
    "    np.repeat(0.1, 2000-1),\n",
    "])"
   ]
  },
  {
   "cell_type": "code",
   "execution_count": 6,
   "id": "0dee4522",
   "metadata": {
    "scrolled": false
   },
   "outputs": [
    {
     "data": {
      "image/png": "[encoded data removed]",
      "text/plain": [
       "<Figure size 360x288 with 1 Axes>"
      ]
     },
     "metadata": {},
     "output_type": "display_data"
    }
   ],
   "source": [
    "cc.plot_forecasts(\n",
    "    data, \n",
    "    forecasters=[\"optimist\", \"pessimist\"], \n",
    "    plots_dir=plots_dir, \n",
    "    use_logx=use_logx,\n",
    "    font_scale=font_scale,\n",
    "    figsize=(5, 4),\n",
    "    legend_out=False,\n",
    ")\n",
    "plt.legend(loc=\"lower left\", fontsize=\"small\", bbox_to_anchor=(-0.02, -0.025))\n",
    "#plt.legend(loc=\"upper center\", ncol=3, fontsize=\"small\", bbox_to_anchor=(0.425, 1.35))\n",
    "plt.tight_layout()\n",
    "plt.savefig(os.path.join(plots_dir, \"forecasters.pdf\"))"
   ]
  },
  {
   "cell_type": "code",
   "execution_count": 7,
   "id": "0e64d0a3",
   "metadata": {},
   "outputs": [
    {
     "data": {
      "text/plain": [
       "array([ 0.00000000e+00,  0.00000000e+00,  0.00000000e+00, ...,\n",
       "       -1.20024005e-05, -1.20012001e-05, -1.20000000e-05])"
      ]
     },
     "execution_count": 7,
     "metadata": {},
     "output_type": "execute_result"
    }
   ],
   "source": [
    "cc.compute_true_deltas(\n",
    "    data[\"optimist\"],\n",
    "    data[\"pessimist\"],\n",
    "    data[\"true_probs\"],\n",
    "    scoring_rule=scoring_rule\n",
    ")"
   ]
  },
  {
   "cell_type": "markdown",
   "id": "a2618e7f",
   "metadata": {},
   "source": [
    "## CS for $\\Delta_t(\\hat{p}_\\text{k29-poly3}, \\hat{p}_\\text{laplace})$"
   ]
  },
  {
   "cell_type": "code",
   "execution_count": 8,
   "id": "a25ab08f",
   "metadata": {},
   "outputs": [
    {
     "data": {
      "text/html": [
       "<div>\n",
       "<style scoped>\n",
       "    .dataframe tbody tr th:only-of-type {\n",
       "        vertical-align: middle;\n",
       "    }\n",
       "\n",
       "    .dataframe tbody tr th {\n",
       "        vertical-align: top;\n",
       "    }\n",
       "\n",
       "    .dataframe thead th {\n",
       "        text-align: right;\n",
       "    }\n",
       "</style>\n",
       "<table border=\"1\" class=\"dataframe\">\n",
       "  <thead>\n",
       "    <tr style=\"text-align: right;\">\n",
       "      <th></th>\n",
       "      <th>time</th>\n",
       "      <th>lcb</th>\n",
       "      <th>ucb</th>\n",
       "      <th>e_pq</th>\n",
       "      <th>e_qp</th>\n",
       "    </tr>\n",
       "  </thead>\n",
       "  <tbody>\n",
       "    <tr>\n",
       "      <th>0</th>\n",
       "      <td>1</td>\n",
       "      <td>-10.286275</td>\n",
       "      <td>9.886275</td>\n",
       "      <td>0.902317</td>\n",
       "      <td>1.054496</td>\n",
       "    </tr>\n",
       "    <tr>\n",
       "      <th>1</th>\n",
       "      <td>2</td>\n",
       "      <td>-5.243138</td>\n",
       "      <td>4.843138</td>\n",
       "      <td>0.835592</td>\n",
       "      <td>1.141155</td>\n",
       "    </tr>\n",
       "    <tr>\n",
       "      <th>2</th>\n",
       "      <td>3</td>\n",
       "      <td>-3.428758</td>\n",
       "      <td>3.295425</td>\n",
       "      <td>0.823937</td>\n",
       "      <td>0.959435</td>\n",
       "    </tr>\n",
       "    <tr>\n",
       "      <th>3</th>\n",
       "      <td>4</td>\n",
       "      <td>-2.521569</td>\n",
       "      <td>2.521569</td>\n",
       "      <td>0.856047</td>\n",
       "      <td>0.856047</td>\n",
       "    </tr>\n",
       "    <tr>\n",
       "      <th>4</th>\n",
       "      <td>5</td>\n",
       "      <td>-2.057255</td>\n",
       "      <td>1.977255</td>\n",
       "      <td>0.778617</td>\n",
       "      <td>0.904531</td>\n",
       "    </tr>\n",
       "    <tr>\n",
       "      <th>...</th>\n",
       "      <td>...</td>\n",
       "      <td>...</td>\n",
       "      <td>...</td>\n",
       "      <td>...</td>\n",
       "      <td>...</td>\n",
       "    </tr>\n",
       "    <tr>\n",
       "      <th>9995</th>\n",
       "      <td>9996</td>\n",
       "      <td>-0.008811</td>\n",
       "      <td>0.004930</td>\n",
       "      <td>0.018498</td>\n",
       "      <td>0.117144</td>\n",
       "    </tr>\n",
       "    <tr>\n",
       "      <th>9996</th>\n",
       "      <td>9997</td>\n",
       "      <td>-0.008780</td>\n",
       "      <td>0.004963</td>\n",
       "      <td>0.018673</td>\n",
       "      <td>0.114409</td>\n",
       "    </tr>\n",
       "    <tr>\n",
       "      <th>9997</th>\n",
       "      <td>9998</td>\n",
       "      <td>-0.008787</td>\n",
       "      <td>0.004954</td>\n",
       "      <td>0.018628</td>\n",
       "      <td>0.115070</td>\n",
       "    </tr>\n",
       "    <tr>\n",
       "      <th>9998</th>\n",
       "      <td>9999</td>\n",
       "      <td>-0.008755</td>\n",
       "      <td>0.004987</td>\n",
       "      <td>0.018805</td>\n",
       "      <td>0.112398</td>\n",
       "    </tr>\n",
       "    <tr>\n",
       "      <th>9999</th>\n",
       "      <td>10000</td>\n",
       "      <td>-0.008762</td>\n",
       "      <td>0.004978</td>\n",
       "      <td>0.018760</td>\n",
       "      <td>0.113044</td>\n",
       "    </tr>\n",
       "  </tbody>\n",
       "</table>\n",
       "<p>10000 rows × 5 columns</p>\n",
       "</div>"
      ],
      "text/plain": [
       "       time        lcb       ucb      e_pq      e_qp\n",
       "0         1 -10.286275  9.886275  0.902317  1.054496\n",
       "1         2  -5.243138  4.843138  0.835592  1.141155\n",
       "2         3  -3.428758  3.295425  0.823937  0.959435\n",
       "3         4  -2.521569  2.521569  0.856047  0.856047\n",
       "4         5  -2.057255  1.977255  0.778617  0.904531\n",
       "...     ...        ...       ...       ...       ...\n",
       "9995   9996  -0.008811  0.004930  0.018498  0.117144\n",
       "9996   9997  -0.008780  0.004963  0.018673  0.114409\n",
       "9997   9998  -0.008787  0.004954  0.018628  0.115070\n",
       "9998   9999  -0.008755  0.004987  0.018805  0.112398\n",
       "9999  10000  -0.008762  0.004978  0.018760  0.113044\n",
       "\n",
       "[10000 rows x 5 columns]"
      ]
     },
     "execution_count": 8,
     "metadata": {},
     "output_type": "execute_result"
    }
   ],
   "source": [
    "name_p, name_q = \"optimist\", \"pessimist\"\n",
    "results = cc.compare_forecasts(\n",
    "    data, \n",
    "    name_p, \n",
    "    name_q, \n",
    "    scoring_rule=scoring_rule,\n",
    "    alpha=alpha,\n",
    ")\n",
    "results"
   ]
  },
  {
   "cell_type": "code",
   "execution_count": 9,
   "id": "99800e2c",
   "metadata": {
    "scrolled": false
   },
   "outputs": [
    {
     "name": "stderr",
     "output_type": "stream",
     "text": [
      "calculating diagnostics under repeated sampling: 100%|██████████████████████████████████████████████████████████████████████████████████████████████████| 100/100 [1:19:26<00:00, 47.67s/it]\n"
     ]
    },
    {
     "data": {
      "image/png": "[encoded data removed]",
      "text/plain": [
       "<Figure size 864x360 with 2 Axes>"
      ]
     },
     "metadata": {},
     "output_type": "display_data"
    }
   ],
   "source": [
    "results, axes = cc.plot_comparison(\n",
    "    data, \n",
    "    name_p, \n",
    "    name_q, \n",
    "    scoring_rule=scoring_rule,    \n",
    "    plots_dir=plots_dir, \n",
    "    alpha=alpha,\n",
    "    baselines=(\"ci\"),\n",
    "    plot_e=False,\n",
    "    plot_diagnostics=True,\n",
    "    diagnostics_fn=\"cfdr\",\n",
    "    diagnostics_baselines=(\"dm\", \"gw\", \"ci\"),\n",
    "    n_repeats=100,\n",
    "    plot_width=False,\n",
    "    use_logx=use_logx,\n",
    "    ylim_scale=0.2,\n",
    "    font_scale=font_scale,\n",
    "    no_title=True,\n",
    ")"
   ]
  },
  {
   "cell_type": "markdown",
   "id": "d5b22d98",
   "metadata": {},
   "source": [
    "## DM/GW Tests of (Un)conditional Predictive Ability\n",
    "\n",
    "These tests are NOT anytime-valid and are asymptotic. They also come with different assumptions which are not often checked in practice (Diebold 2013)."
   ]
  },
  {
   "cell_type": "markdown",
   "id": "ca9d16e6",
   "metadata": {},
   "source": [
    "### DM Test"
   ]
  },
  {
   "cell_type": "code",
   "execution_count": 10,
   "id": "362f7f3a",
   "metadata": {},
   "outputs": [
    {
     "name": "stdout",
     "output_type": "stream",
     "text": [
      "DM p-value at T=4000: [0.71988521 0.71988521]\n",
      "DM p-value at T=10000: [0.86912347 0.86912347]\n"
     ]
    }
   ],
   "source": [
    "# use squared loss\n",
    "norm = 2\n",
    "T = len(data)\n",
    "mid_T = 4000\n",
    "\n",
    "# hack to make it 2 columns (second column not meaningful)\n",
    "y, fc_p, fc_q = [\n",
    "    np.vstack([data[column].values, 1 - data[column].values]).T\n",
    "    for column in [\"y\", name_p, name_q]\n",
    "]\n",
    "\n",
    "# direction is in reverse to our null\n",
    "print(f\"DM p-value at T={mid_T}:\", DM(y[:mid_T], fc_q[:mid_T], fc_p[:mid_T], norm=norm))\n",
    "print(f\"DM p-value at T={T}:\", DM(y, fc_q, fc_p, norm=norm))"
   ]
  },
  {
   "cell_type": "code",
   "execution_count": 11,
   "id": "839ed315",
   "metadata": {},
   "outputs": [
    {
     "data": {
      "text/plain": [
       "array([0.86912347, 0.86912347])"
      ]
     },
     "execution_count": 11,
     "metadata": {},
     "output_type": "execute_result"
    }
   ],
   "source": [
    "DM(y, fc_q, fc_p, norm=norm)"
   ]
  },
  {
   "cell_type": "code",
   "execution_count": 12,
   "id": "9dda1373",
   "metadata": {},
   "outputs": [
    {
     "data": {
      "text/plain": [
       "array([False, False])"
      ]
     },
     "execution_count": 12,
     "metadata": {},
     "output_type": "execute_result"
    }
   ],
   "source": [
    "cc.compute_cfdr(DM(y, fc_q, fc_p, norm=norm))"
   ]
  },
  {
   "cell_type": "markdown",
   "id": "27d852a3",
   "metadata": {},
   "source": [
    "### GW Test"
   ]
  },
  {
   "cell_type": "code",
   "execution_count": 13,
   "id": "7130db62",
   "metadata": {},
   "outputs": [
    {
     "name": "stdout",
     "output_type": "stream",
     "text": [
      "GW p-value at T=4000: 1.0\n",
      "GW p-value at T=10000: 1.0\n"
     ]
    }
   ],
   "source": [
    "# default option 'GW' only supports (hardcoded) the format of 24-forecasts-per-day\n",
    "from epftoolbox.evaluation.gw import gwtest\n",
    "\n",
    "score_fn = cc.get_scoring_rule(\"brier\")\n",
    "\n",
    "loss_p = 1 - score_fn(y, fc_p)\n",
    "loss_q = 1 - score_fn(y, fc_q)\n",
    "\n",
    "print(f\"GW p-value at T={mid_T}:\", gwtest(loss_q[:mid_T], loss_p[:mid_T], tau=1, conditional=True))\n",
    "print(f\"GW p-value at T={T}:\", gwtest(loss_q, loss_p, tau=1, conditional=True))"
   ]
  },
  {
   "cell_type": "markdown",
   "id": "f60c3581",
   "metadata": {},
   "source": [
    "### Both at different sample sizes (unsafe)"
   ]
  },
  {
   "cell_type": "code",
   "execution_count": 14,
   "id": "e77b473a",
   "metadata": {},
   "outputs": [
    {
     "data": {
      "application/vnd.jupyter.widget-view+json": {
       "model_id": "f4eb5de954654e4a8e1cefbeb3ce9d06",
       "version_major": 2,
       "version_minor": 0
      },
      "text/plain": [
       "  0%|          | 0/100 [00:00<?, ?it/s]"
      ]
     },
     "metadata": {},
     "output_type": "display_data"
    },
    {
     "data": {
      "text/html": [
       "<div>\n",
       "<style scoped>\n",
       "    .dataframe tbody tr th:only-of-type {\n",
       "        vertical-align: middle;\n",
       "    }\n",
       "\n",
       "    .dataframe tbody tr th {\n",
       "        vertical-align: top;\n",
       "    }\n",
       "\n",
       "    .dataframe thead th {\n",
       "        text-align: right;\n",
       "    }\n",
       "</style>\n",
       "<table border=\"1\" class=\"dataframe\">\n",
       "  <thead>\n",
       "    <tr style=\"text-align: right;\">\n",
       "      <th></th>\n",
       "      <th>Time</th>\n",
       "      <th>Test</th>\n",
       "      <th>p-value</th>\n",
       "    </tr>\n",
       "  </thead>\n",
       "  <tbody>\n",
       "    <tr>\n",
       "      <th>0</th>\n",
       "      <td>100</td>\n",
       "      <td>DM</td>\n",
       "      <td>0.579275</td>\n",
       "    </tr>\n",
       "    <tr>\n",
       "      <th>1</th>\n",
       "      <td>200</td>\n",
       "      <td>DM</td>\n",
       "      <td>0.714350</td>\n",
       "    </tr>\n",
       "    <tr>\n",
       "      <th>2</th>\n",
       "      <td>300</td>\n",
       "      <td>DM</td>\n",
       "      <td>0.822537</td>\n",
       "    </tr>\n",
       "    <tr>\n",
       "      <th>3</th>\n",
       "      <td>400</td>\n",
       "      <td>DM</td>\n",
       "      <td>0.971845</td>\n",
       "    </tr>\n",
       "    <tr>\n",
       "      <th>4</th>\n",
       "      <td>500</td>\n",
       "      <td>DM</td>\n",
       "      <td>0.858712</td>\n",
       "    </tr>\n",
       "    <tr>\n",
       "      <th>...</th>\n",
       "      <td>...</td>\n",
       "      <td>...</td>\n",
       "      <td>...</td>\n",
       "    </tr>\n",
       "    <tr>\n",
       "      <th>195</th>\n",
       "      <td>9600</td>\n",
       "      <td>GW</td>\n",
       "      <td>1.000000</td>\n",
       "    </tr>\n",
       "    <tr>\n",
       "      <th>196</th>\n",
       "      <td>9700</td>\n",
       "      <td>GW</td>\n",
       "      <td>1.000000</td>\n",
       "    </tr>\n",
       "    <tr>\n",
       "      <th>197</th>\n",
       "      <td>9800</td>\n",
       "      <td>GW</td>\n",
       "      <td>1.000000</td>\n",
       "    </tr>\n",
       "    <tr>\n",
       "      <th>198</th>\n",
       "      <td>9900</td>\n",
       "      <td>GW</td>\n",
       "      <td>1.000000</td>\n",
       "    </tr>\n",
       "    <tr>\n",
       "      <th>199</th>\n",
       "      <td>10000</td>\n",
       "      <td>GW</td>\n",
       "      <td>1.000000</td>\n",
       "    </tr>\n",
       "  </tbody>\n",
       "</table>\n",
       "<p>200 rows × 3 columns</p>\n",
       "</div>"
      ],
      "text/plain": [
       "      Time Test   p-value\n",
       "0      100   DM  0.579275\n",
       "1      200   DM  0.714350\n",
       "2      300   DM  0.822537\n",
       "3      400   DM  0.971845\n",
       "4      500   DM  0.858712\n",
       "..     ...  ...       ...\n",
       "195   9600   GW  1.000000\n",
       "196   9700   GW  1.000000\n",
       "197   9800   GW  1.000000\n",
       "198   9900   GW  1.000000\n",
       "199  10000   GW  1.000000\n",
       "\n",
       "[200 rows x 3 columns]"
      ]
     },
     "execution_count": 14,
     "metadata": {},
     "output_type": "execute_result"
    }
   ],
   "source": [
    "# non-anytime-valid p-values\n",
    "from tqdm.notebook import tqdm\n",
    "\n",
    "n_interval = 100\n",
    "unsafe_p = pd.DataFrame([\n",
    "    {\n",
    "        \"Time\": t,\n",
    "        \"DM\": DM(y[:t], fc_q[:t], fc_p[:t], norm=norm)[0],\n",
    "        \"GW\": gwtest(loss_q[:t], loss_p[:t], tau=1, conditional=True),\n",
    "    }\n",
    "    for t in tqdm(data.time[n_interval-1::n_interval])\n",
    "]).melt(id_vars=[\"Time\"], var_name=\"Test\", value_name=\"p-value\")\n",
    "\n",
    "unsafe_p"
   ]
  },
  {
   "cell_type": "markdown",
   "id": "901232cc",
   "metadata": {},
   "source": [
    "## Comparison with Anytime-Valid $p$-Values\n",
    "\n",
    "Any e-process $(E_t)_{t \\geq 0}$ can be converted into an anytime-valid p-process $(\\mathsf{p}_t)_{t\\geq0}$ via the simple conversion formula $\\mathsf{p}_t = 1/E_t$."
   ]
  },
  {
   "cell_type": "code",
   "execution_count": 15,
   "id": "78037387",
   "metadata": {},
   "outputs": [
    {
     "data": {
      "text/html": [
       "<div>\n",
       "<style scoped>\n",
       "    .dataframe tbody tr th:only-of-type {\n",
       "        vertical-align: middle;\n",
       "    }\n",
       "\n",
       "    .dataframe tbody tr th {\n",
       "        vertical-align: top;\n",
       "    }\n",
       "\n",
       "    .dataframe thead th {\n",
       "        text-align: right;\n",
       "    }\n",
       "</style>\n",
       "<table border=\"1\" class=\"dataframe\">\n",
       "  <thead>\n",
       "    <tr style=\"text-align: right;\">\n",
       "      <th></th>\n",
       "      <th>time</th>\n",
       "      <th>lcb</th>\n",
       "      <th>ucb</th>\n",
       "      <th>e_pq</th>\n",
       "      <th>e_qp</th>\n",
       "    </tr>\n",
       "  </thead>\n",
       "  <tbody>\n",
       "    <tr>\n",
       "      <th>0</th>\n",
       "      <td>1</td>\n",
       "      <td>-10.286275</td>\n",
       "      <td>9.886275</td>\n",
       "      <td>0.902317</td>\n",
       "      <td>1.054496</td>\n",
       "    </tr>\n",
       "    <tr>\n",
       "      <th>1</th>\n",
       "      <td>2</td>\n",
       "      <td>-5.243138</td>\n",
       "      <td>4.843138</td>\n",
       "      <td>0.835592</td>\n",
       "      <td>1.141155</td>\n",
       "    </tr>\n",
       "    <tr>\n",
       "      <th>2</th>\n",
       "      <td>3</td>\n",
       "      <td>-3.428758</td>\n",
       "      <td>3.295425</td>\n",
       "      <td>0.823937</td>\n",
       "      <td>0.959435</td>\n",
       "    </tr>\n",
       "    <tr>\n",
       "      <th>3</th>\n",
       "      <td>4</td>\n",
       "      <td>-2.521569</td>\n",
       "      <td>2.521569</td>\n",
       "      <td>0.856047</td>\n",
       "      <td>0.856047</td>\n",
       "    </tr>\n",
       "    <tr>\n",
       "      <th>4</th>\n",
       "      <td>5</td>\n",
       "      <td>-2.057255</td>\n",
       "      <td>1.977255</td>\n",
       "      <td>0.778617</td>\n",
       "      <td>0.904531</td>\n",
       "    </tr>\n",
       "    <tr>\n",
       "      <th>...</th>\n",
       "      <td>...</td>\n",
       "      <td>...</td>\n",
       "      <td>...</td>\n",
       "      <td>...</td>\n",
       "      <td>...</td>\n",
       "    </tr>\n",
       "    <tr>\n",
       "      <th>9995</th>\n",
       "      <td>9996</td>\n",
       "      <td>-0.008811</td>\n",
       "      <td>0.004930</td>\n",
       "      <td>0.018498</td>\n",
       "      <td>0.117144</td>\n",
       "    </tr>\n",
       "    <tr>\n",
       "      <th>9996</th>\n",
       "      <td>9997</td>\n",
       "      <td>-0.008780</td>\n",
       "      <td>0.004963</td>\n",
       "      <td>0.018673</td>\n",
       "      <td>0.114409</td>\n",
       "    </tr>\n",
       "    <tr>\n",
       "      <th>9997</th>\n",
       "      <td>9998</td>\n",
       "      <td>-0.008787</td>\n",
       "      <td>0.004954</td>\n",
       "      <td>0.018628</td>\n",
       "      <td>0.115070</td>\n",
       "    </tr>\n",
       "    <tr>\n",
       "      <th>9998</th>\n",
       "      <td>9999</td>\n",
       "      <td>-0.008755</td>\n",
       "      <td>0.004987</td>\n",
       "      <td>0.018805</td>\n",
       "      <td>0.112398</td>\n",
       "    </tr>\n",
       "    <tr>\n",
       "      <th>9999</th>\n",
       "      <td>10000</td>\n",
       "      <td>-0.008762</td>\n",
       "      <td>0.004978</td>\n",
       "      <td>0.018760</td>\n",
       "      <td>0.113044</td>\n",
       "    </tr>\n",
       "  </tbody>\n",
       "</table>\n",
       "<p>10000 rows × 5 columns</p>\n",
       "</div>"
      ],
      "text/plain": [
       "       time        lcb       ucb      e_pq      e_qp\n",
       "0         1 -10.286275  9.886275  0.902317  1.054496\n",
       "1         2  -5.243138  4.843138  0.835592  1.141155\n",
       "2         3  -3.428758  3.295425  0.823937  0.959435\n",
       "3         4  -2.521569  2.521569  0.856047  0.856047\n",
       "4         5  -2.057255  1.977255  0.778617  0.904531\n",
       "...     ...        ...       ...       ...       ...\n",
       "9995   9996  -0.008811  0.004930  0.018498  0.117144\n",
       "9996   9997  -0.008780  0.004963  0.018673  0.114409\n",
       "9997   9998  -0.008787  0.004954  0.018628  0.115070\n",
       "9998   9999  -0.008755  0.004987  0.018805  0.112398\n",
       "9999  10000  -0.008762  0.004978  0.018760  0.113044\n",
       "\n",
       "[10000 rows x 5 columns]"
      ]
     },
     "execution_count": 15,
     "metadata": {},
     "output_type": "execute_result"
    }
   ],
   "source": [
    "results = cc.compare_forecasts(\n",
    "    data, \n",
    "    name_p, \n",
    "    name_q, \n",
    "    scoring_rule=scoring_rule,\n",
    "    alpha=alpha,\n",
    ")\n",
    "results"
   ]
  },
  {
   "cell_type": "code",
   "execution_count": 16,
   "id": "2925a7f0",
   "metadata": {},
   "outputs": [],
   "source": [
    "def convert_e_to_p(e):\n",
    "    \"\"\"Convert an e-process into an anytime-valid p-process via\n",
    "    \n",
    "    p_t = 1/E_t.\n",
    "    \"\"\"\n",
    "    return np.clip(1.0 / (e + 1e-8), 0, 1)"
   ]
  },
  {
   "cell_type": "code",
   "execution_count": 17,
   "id": "356d695a",
   "metadata": {},
   "outputs": [],
   "source": [
    "safe_e = results[\"e_pq\"].values\n",
    "safe_p = convert_e_to_p(safe_e)\n",
    "safe_p = pd.DataFrame([\n",
    "    {\n",
    "        \"Time\": t,\n",
    "        \"Test\": \"CR (anytime-valid)\",\n",
    "        \"p-value\": p,\n",
    "    }\n",
    "    for t, p in zip(data.time[n_interval-1::n_interval], \n",
    "                    safe_p[n_interval-1::n_interval])\n",
    "])"
   ]
  },
  {
   "cell_type": "code",
   "execution_count": 18,
   "id": "3b7dba03",
   "metadata": {},
   "outputs": [
    {
     "data": {
      "image/png": "[encoded data removed]",
      "text/plain": [
       "<Figure size 720.065x360 with 1 Axes>"
      ]
     },
     "metadata": {},
     "output_type": "display_data"
    }
   ],
   "source": [
    "pvalues = pd.concat([safe_p, unsafe_p], ignore_index=True)\n",
    "\n",
    "fg = sns.relplot(\n",
    "    x=\"Time\",\n",
    "    y=\"p-value\",\n",
    "    kind=\"line\",\n",
    "    linewidth=2,\n",
    "    hue=\"Test\",\n",
    "    style=\"Test\",\n",
    "    aspect=1.5,\n",
    "    data=pvalues\n",
    ")\n",
    "fg.ax.set(\n",
    "    title=\"p-values for \" + r\"$H_0:$\" + \"\\\"p is no better than q\\\"\",\n",
    ")\n",
    "# fg.ax.axhline(y=0.05, color=\"gray\", alpha=0.5, linewidth=2)\n",
    "fg.savefig(os.path.join(plots_dir, \"pvalue_comparison.pdf\"))\n",
    "None"
   ]
  },
  {
   "cell_type": "markdown",
   "id": "52469e14",
   "metadata": {},
   "source": [
    "## *DM Assumptions\n",
    "\n",
    "In particular: covariance stationarity (clearly violated in the above examples)."
   ]
  },
  {
   "cell_type": "code",
   "execution_count": 19,
   "id": "fcaf88f7",
   "metadata": {},
   "outputs": [],
   "source": [
    "deltas = cc.cumul_mean(loss_q - loss_p)"
   ]
  },
  {
   "cell_type": "code",
   "execution_count": 20,
   "id": "e3bf3d05",
   "metadata": {},
   "outputs": [
    {
     "data": {
      "image/png": "[encoded data removed]",
      "text/plain": [
       "<Figure size 432x288 with 1 Axes>"
      ]
     },
     "metadata": {},
     "output_type": "display_data"
    }
   ],
   "source": [
    "sns.lineplot(x=data.time, y=deltas, label=r\"$\\hat\\Delta_t$\")\n",
    "None"
   ]
  },
  {
   "cell_type": "code",
   "execution_count": 21,
   "id": "c931195c",
   "metadata": {},
   "outputs": [
    {
     "data": {
      "text/html": [
       "<div>\n",
       "<style scoped>\n",
       "    .dataframe tbody tr th:only-of-type {\n",
       "        vertical-align: middle;\n",
       "    }\n",
       "\n",
       "    .dataframe tbody tr th {\n",
       "        vertical-align: top;\n",
       "    }\n",
       "\n",
       "    .dataframe thead th {\n",
       "        text-align: right;\n",
       "    }\n",
       "</style>\n",
       "<table border=\"1\" class=\"dataframe\">\n",
       "  <thead>\n",
       "    <tr style=\"text-align: right;\">\n",
       "      <th></th>\n",
       "      <th>lb_stat</th>\n",
       "      <th>lb_pvalue</th>\n",
       "    </tr>\n",
       "  </thead>\n",
       "  <tbody>\n",
       "    <tr>\n",
       "      <th>1</th>\n",
       "      <td>7039.560538</td>\n",
       "      <td>0.0</td>\n",
       "    </tr>\n",
       "  </tbody>\n",
       "</table>\n",
       "</div>"
      ],
      "text/plain": [
       "       lb_stat  lb_pvalue\n",
       "1  7039.560538        0.0"
      ]
     },
     "execution_count": 21,
     "metadata": {},
     "output_type": "execute_result"
    }
   ],
   "source": [
    "import statsmodels.api as sm\n",
    "\n",
    "# H_0: white noise vs. H_1: not white noise\n",
    "sm.stats.acorr_ljungbox(deltas, lags=1)"
   ]
  },
  {
   "cell_type": "code",
   "execution_count": null,
   "id": "2a7dd8a2",
   "metadata": {},
   "outputs": [
    {
     "data": {
      "text/plain": [
       "(-6.253783289287301,\n",
       " 4.388988062747655e-08,\n",
       " 38,\n",
       " 9961,\n",
       " {'1%': -3.4310066595695945,\n",
       "  '5%': -2.861830204343065,\n",
       "  '10%': -2.5669244706354584},\n",
       " -134957.87532730523)"
      ]
     },
     "execution_count": 22,
     "metadata": {},
     "output_type": "execute_result"
    }
   ],
   "source": [
    "import statsmodels.tsa.api as tsa\n",
    "\n",
    "# H_0: non-stationary vs. H_1: AR(1) stationary\n",
    "tsa.adfuller(deltas)"
   ]
  }
 ],
 "metadata": {
  "kernelspec": {
   "display_name": "Python 3 (ipykernel)",
   "language": "python",
   "name": "python3"
  },
  "language_info": {
   "codemirror_mode": {
    "name": "ipython",
    "version": 3
   },
   "file_extension": ".py",
   "mimetype": "text/x-python",
   "name": "python",
   "nbconvert_exporter": "python",
   "pygments_lexer": "ipython3",
   "version": "3.9.10"
  }
 },
 "nbformat": 4,
 "nbformat_minor": 5
}
